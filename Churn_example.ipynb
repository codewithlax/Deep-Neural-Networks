{
  "nbformat": 4,
  "nbformat_minor": 0,
  "metadata": {
    "colab": {
      "provenance": [],
      "gpuType": "T4",
      "authorship_tag": "ABX9TyPmPBcICm5TI7RtTd4Zq/S2",
      "include_colab_link": true
    },
    "kernelspec": {
      "name": "python3",
      "display_name": "Python 3"
    },
    "language_info": {
      "name": "python"
    },
    "accelerator": "GPU"
  },
  "cells": [
    {
      "cell_type": "markdown",
      "metadata": {
        "id": "view-in-github",
        "colab_type": "text"
      },
      "source": [
        "<a href=\"https://colab.research.google.com/github/codewithlax/Deep-Neural-Networks/blob/main/Churn_example.ipynb\" target=\"_parent\"><img src=\"https://colab.research.google.com/assets/colab-badge.svg\" alt=\"Open In Colab\"/></a>"
      ]
    },
    {
      "cell_type": "code",
      "execution_count": null,
      "metadata": {
        "colab": {
          "base_uri": "https://localhost:8080/"
        },
        "id": "4fw5yfwXCAqr",
        "outputId": "284f651b-681e-4c6e-f60d-486a8a80700e"
      },
      "outputs": [
        {
          "output_type": "stream",
          "name": "stdout",
          "text": [
            "2.12.0\n"
          ]
        }
      ],
      "source": [
        "import tensorflow as tf\n",
        "print(tf.__version__)\n"
      ]
    },
    {
      "cell_type": "code",
      "source": [
        "# Import basic libraries\n",
        "import numpy as np\n",
        "import matplotlib.pyplot as plt\n",
        "import pandas as pd"
      ],
      "metadata": {
        "id": "c67InK0ND_eG"
      },
      "execution_count": null,
      "outputs": []
    },
    {
      "cell_type": "code",
      "source": [
        "dataset = pd.read_csv('Churn_Modelling.csv')\n",
        "dataset.head()"
      ],
      "metadata": {
        "colab": {
          "base_uri": "https://localhost:8080/",
          "height": 206
        },
        "id": "DvnxJSowEEYY",
        "outputId": "9f880aea-a184-4a3a-a01a-7b97d692d423"
      },
      "execution_count": null,
      "outputs": [
        {
          "output_type": "execute_result",
          "data": {
            "text/plain": [
              "   RowNumber  CustomerId   Surname  CreditScore Geography  Gender  Age  \\\n",
              "0          1    15634602  Hargrave          619    France  Female   42   \n",
              "1          2    15647311      Hill          608     Spain  Female   41   \n",
              "2          3    15619304      Onio          502    France  Female   42   \n",
              "3          4    15701354      Boni          699    France  Female   39   \n",
              "4          5    15737888  Mitchell          850     Spain  Female   43   \n",
              "\n",
              "   Tenure    Balance  NumOfProducts  HasCrCard  IsActiveMember  \\\n",
              "0       2       0.00              1          1               1   \n",
              "1       1   83807.86              1          0               1   \n",
              "2       8  159660.80              3          1               0   \n",
              "3       1       0.00              2          0               0   \n",
              "4       2  125510.82              1          1               1   \n",
              "\n",
              "   EstimatedSalary  Exited  \n",
              "0        101348.88       1  \n",
              "1        112542.58       0  \n",
              "2        113931.57       1  \n",
              "3         93826.63       0  \n",
              "4         79084.10       0  "
            ],
            "text/html": [
              "\n",
              "  <div id=\"df-fd98b60b-6169-4b74-bcbf-57d251d1722e\">\n",
              "    <div class=\"colab-df-container\">\n",
              "      <div>\n",
              "<style scoped>\n",
              "    .dataframe tbody tr th:only-of-type {\n",
              "        vertical-align: middle;\n",
              "    }\n",
              "\n",
              "    .dataframe tbody tr th {\n",
              "        vertical-align: top;\n",
              "    }\n",
              "\n",
              "    .dataframe thead th {\n",
              "        text-align: right;\n",
              "    }\n",
              "</style>\n",
              "<table border=\"1\" class=\"dataframe\">\n",
              "  <thead>\n",
              "    <tr style=\"text-align: right;\">\n",
              "      <th></th>\n",
              "      <th>RowNumber</th>\n",
              "      <th>CustomerId</th>\n",
              "      <th>Surname</th>\n",
              "      <th>CreditScore</th>\n",
              "      <th>Geography</th>\n",
              "      <th>Gender</th>\n",
              "      <th>Age</th>\n",
              "      <th>Tenure</th>\n",
              "      <th>Balance</th>\n",
              "      <th>NumOfProducts</th>\n",
              "      <th>HasCrCard</th>\n",
              "      <th>IsActiveMember</th>\n",
              "      <th>EstimatedSalary</th>\n",
              "      <th>Exited</th>\n",
              "    </tr>\n",
              "  </thead>\n",
              "  <tbody>\n",
              "    <tr>\n",
              "      <th>0</th>\n",
              "      <td>1</td>\n",
              "      <td>15634602</td>\n",
              "      <td>Hargrave</td>\n",
              "      <td>619</td>\n",
              "      <td>France</td>\n",
              "      <td>Female</td>\n",
              "      <td>42</td>\n",
              "      <td>2</td>\n",
              "      <td>0.00</td>\n",
              "      <td>1</td>\n",
              "      <td>1</td>\n",
              "      <td>1</td>\n",
              "      <td>101348.88</td>\n",
              "      <td>1</td>\n",
              "    </tr>\n",
              "    <tr>\n",
              "      <th>1</th>\n",
              "      <td>2</td>\n",
              "      <td>15647311</td>\n",
              "      <td>Hill</td>\n",
              "      <td>608</td>\n",
              "      <td>Spain</td>\n",
              "      <td>Female</td>\n",
              "      <td>41</td>\n",
              "      <td>1</td>\n",
              "      <td>83807.86</td>\n",
              "      <td>1</td>\n",
              "      <td>0</td>\n",
              "      <td>1</td>\n",
              "      <td>112542.58</td>\n",
              "      <td>0</td>\n",
              "    </tr>\n",
              "    <tr>\n",
              "      <th>2</th>\n",
              "      <td>3</td>\n",
              "      <td>15619304</td>\n",
              "      <td>Onio</td>\n",
              "      <td>502</td>\n",
              "      <td>France</td>\n",
              "      <td>Female</td>\n",
              "      <td>42</td>\n",
              "      <td>8</td>\n",
              "      <td>159660.80</td>\n",
              "      <td>3</td>\n",
              "      <td>1</td>\n",
              "      <td>0</td>\n",
              "      <td>113931.57</td>\n",
              "      <td>1</td>\n",
              "    </tr>\n",
              "    <tr>\n",
              "      <th>3</th>\n",
              "      <td>4</td>\n",
              "      <td>15701354</td>\n",
              "      <td>Boni</td>\n",
              "      <td>699</td>\n",
              "      <td>France</td>\n",
              "      <td>Female</td>\n",
              "      <td>39</td>\n",
              "      <td>1</td>\n",
              "      <td>0.00</td>\n",
              "      <td>2</td>\n",
              "      <td>0</td>\n",
              "      <td>0</td>\n",
              "      <td>93826.63</td>\n",
              "      <td>0</td>\n",
              "    </tr>\n",
              "    <tr>\n",
              "      <th>4</th>\n",
              "      <td>5</td>\n",
              "      <td>15737888</td>\n",
              "      <td>Mitchell</td>\n",
              "      <td>850</td>\n",
              "      <td>Spain</td>\n",
              "      <td>Female</td>\n",
              "      <td>43</td>\n",
              "      <td>2</td>\n",
              "      <td>125510.82</td>\n",
              "      <td>1</td>\n",
              "      <td>1</td>\n",
              "      <td>1</td>\n",
              "      <td>79084.10</td>\n",
              "      <td>0</td>\n",
              "    </tr>\n",
              "  </tbody>\n",
              "</table>\n",
              "</div>\n",
              "      <button class=\"colab-df-convert\" onclick=\"convertToInteractive('df-fd98b60b-6169-4b74-bcbf-57d251d1722e')\"\n",
              "              title=\"Convert this dataframe to an interactive table.\"\n",
              "              style=\"display:none;\">\n",
              "        \n",
              "  <svg xmlns=\"http://www.w3.org/2000/svg\" height=\"24px\"viewBox=\"0 0 24 24\"\n",
              "       width=\"24px\">\n",
              "    <path d=\"M0 0h24v24H0V0z\" fill=\"none\"/>\n",
              "    <path d=\"M18.56 5.44l.94 2.06.94-2.06 2.06-.94-2.06-.94-.94-2.06-.94 2.06-2.06.94zm-11 1L8.5 8.5l.94-2.06 2.06-.94-2.06-.94L8.5 2.5l-.94 2.06-2.06.94zm10 10l.94 2.06.94-2.06 2.06-.94-2.06-.94-.94-2.06-.94 2.06-2.06.94z\"/><path d=\"M17.41 7.96l-1.37-1.37c-.4-.4-.92-.59-1.43-.59-.52 0-1.04.2-1.43.59L10.3 9.45l-7.72 7.72c-.78.78-.78 2.05 0 2.83L4 21.41c.39.39.9.59 1.41.59.51 0 1.02-.2 1.41-.59l7.78-7.78 2.81-2.81c.8-.78.8-2.07 0-2.86zM5.41 20L4 18.59l7.72-7.72 1.47 1.35L5.41 20z\"/>\n",
              "  </svg>\n",
              "      </button>\n",
              "      \n",
              "  <style>\n",
              "    .colab-df-container {\n",
              "      display:flex;\n",
              "      flex-wrap:wrap;\n",
              "      gap: 12px;\n",
              "    }\n",
              "\n",
              "    .colab-df-convert {\n",
              "      background-color: #E8F0FE;\n",
              "      border: none;\n",
              "      border-radius: 50%;\n",
              "      cursor: pointer;\n",
              "      display: none;\n",
              "      fill: #1967D2;\n",
              "      height: 32px;\n",
              "      padding: 0 0 0 0;\n",
              "      width: 32px;\n",
              "    }\n",
              "\n",
              "    .colab-df-convert:hover {\n",
              "      background-color: #E2EBFA;\n",
              "      box-shadow: 0px 1px 2px rgba(60, 64, 67, 0.3), 0px 1px 3px 1px rgba(60, 64, 67, 0.15);\n",
              "      fill: #174EA6;\n",
              "    }\n",
              "\n",
              "    [theme=dark] .colab-df-convert {\n",
              "      background-color: #3B4455;\n",
              "      fill: #D2E3FC;\n",
              "    }\n",
              "\n",
              "    [theme=dark] .colab-df-convert:hover {\n",
              "      background-color: #434B5C;\n",
              "      box-shadow: 0px 1px 3px 1px rgba(0, 0, 0, 0.15);\n",
              "      filter: drop-shadow(0px 1px 2px rgba(0, 0, 0, 0.3));\n",
              "      fill: #FFFFFF;\n",
              "    }\n",
              "  </style>\n",
              "\n",
              "      <script>\n",
              "        const buttonEl =\n",
              "          document.querySelector('#df-fd98b60b-6169-4b74-bcbf-57d251d1722e button.colab-df-convert');\n",
              "        buttonEl.style.display =\n",
              "          google.colab.kernel.accessAllowed ? 'block' : 'none';\n",
              "\n",
              "        async function convertToInteractive(key) {\n",
              "          const element = document.querySelector('#df-fd98b60b-6169-4b74-bcbf-57d251d1722e');\n",
              "          const dataTable =\n",
              "            await google.colab.kernel.invokeFunction('convertToInteractive',\n",
              "                                                     [key], {});\n",
              "          if (!dataTable) return;\n",
              "\n",
              "          const docLinkHtml = 'Like what you see? Visit the ' +\n",
              "            '<a target=\"_blank\" href=https://colab.research.google.com/notebooks/data_table.ipynb>data table notebook</a>'\n",
              "            + ' to learn more about interactive tables.';\n",
              "          element.innerHTML = '';\n",
              "          dataTable['output_type'] = 'display_data';\n",
              "          await google.colab.output.renderOutput(dataTable, element);\n",
              "          const docLink = document.createElement('div');\n",
              "          docLink.innerHTML = docLinkHtml;\n",
              "          element.appendChild(docLink);\n",
              "        }\n",
              "      </script>\n",
              "    </div>\n",
              "  </div>\n",
              "  "
            ]
          },
          "metadata": {},
          "execution_count": 3
        }
      ]
    },
    {
      "cell_type": "code",
      "source": [
        "# Divide the dataset into independent and dependent features:\n",
        "X = dataset.iloc[:,3:13] # All the rows, but 3-12th column\n",
        "y = dataset.iloc[:,13] # All rows, 13th column - can also do [:,-1]"
      ],
      "metadata": {
        "id": "aS8B4ONrEYYU"
      },
      "execution_count": null,
      "outputs": []
    },
    {
      "cell_type": "code",
      "source": [
        "X.head()"
      ],
      "metadata": {
        "colab": {
          "base_uri": "https://localhost:8080/",
          "height": 206
        },
        "id": "AERAPTL2FbY-",
        "outputId": "94808869-d961-437f-c845-d2d7d1de60fe"
      },
      "execution_count": null,
      "outputs": [
        {
          "output_type": "execute_result",
          "data": {
            "text/plain": [
              "   CreditScore Geography  Gender  Age  Tenure    Balance  NumOfProducts  \\\n",
              "0          619    France  Female   42       2       0.00              1   \n",
              "1          608     Spain  Female   41       1   83807.86              1   \n",
              "2          502    France  Female   42       8  159660.80              3   \n",
              "3          699    France  Female   39       1       0.00              2   \n",
              "4          850     Spain  Female   43       2  125510.82              1   \n",
              "\n",
              "   HasCrCard  IsActiveMember  EstimatedSalary  \n",
              "0          1               1        101348.88  \n",
              "1          0               1        112542.58  \n",
              "2          1               0        113931.57  \n",
              "3          0               0         93826.63  \n",
              "4          1               1         79084.10  "
            ],
            "text/html": [
              "\n",
              "  <div id=\"df-b087bb14-8b20-4ca5-9ed4-ab9c26cb6cb6\">\n",
              "    <div class=\"colab-df-container\">\n",
              "      <div>\n",
              "<style scoped>\n",
              "    .dataframe tbody tr th:only-of-type {\n",
              "        vertical-align: middle;\n",
              "    }\n",
              "\n",
              "    .dataframe tbody tr th {\n",
              "        vertical-align: top;\n",
              "    }\n",
              "\n",
              "    .dataframe thead th {\n",
              "        text-align: right;\n",
              "    }\n",
              "</style>\n",
              "<table border=\"1\" class=\"dataframe\">\n",
              "  <thead>\n",
              "    <tr style=\"text-align: right;\">\n",
              "      <th></th>\n",
              "      <th>CreditScore</th>\n",
              "      <th>Geography</th>\n",
              "      <th>Gender</th>\n",
              "      <th>Age</th>\n",
              "      <th>Tenure</th>\n",
              "      <th>Balance</th>\n",
              "      <th>NumOfProducts</th>\n",
              "      <th>HasCrCard</th>\n",
              "      <th>IsActiveMember</th>\n",
              "      <th>EstimatedSalary</th>\n",
              "    </tr>\n",
              "  </thead>\n",
              "  <tbody>\n",
              "    <tr>\n",
              "      <th>0</th>\n",
              "      <td>619</td>\n",
              "      <td>France</td>\n",
              "      <td>Female</td>\n",
              "      <td>42</td>\n",
              "      <td>2</td>\n",
              "      <td>0.00</td>\n",
              "      <td>1</td>\n",
              "      <td>1</td>\n",
              "      <td>1</td>\n",
              "      <td>101348.88</td>\n",
              "    </tr>\n",
              "    <tr>\n",
              "      <th>1</th>\n",
              "      <td>608</td>\n",
              "      <td>Spain</td>\n",
              "      <td>Female</td>\n",
              "      <td>41</td>\n",
              "      <td>1</td>\n",
              "      <td>83807.86</td>\n",
              "      <td>1</td>\n",
              "      <td>0</td>\n",
              "      <td>1</td>\n",
              "      <td>112542.58</td>\n",
              "    </tr>\n",
              "    <tr>\n",
              "      <th>2</th>\n",
              "      <td>502</td>\n",
              "      <td>France</td>\n",
              "      <td>Female</td>\n",
              "      <td>42</td>\n",
              "      <td>8</td>\n",
              "      <td>159660.80</td>\n",
              "      <td>3</td>\n",
              "      <td>1</td>\n",
              "      <td>0</td>\n",
              "      <td>113931.57</td>\n",
              "    </tr>\n",
              "    <tr>\n",
              "      <th>3</th>\n",
              "      <td>699</td>\n",
              "      <td>France</td>\n",
              "      <td>Female</td>\n",
              "      <td>39</td>\n",
              "      <td>1</td>\n",
              "      <td>0.00</td>\n",
              "      <td>2</td>\n",
              "      <td>0</td>\n",
              "      <td>0</td>\n",
              "      <td>93826.63</td>\n",
              "    </tr>\n",
              "    <tr>\n",
              "      <th>4</th>\n",
              "      <td>850</td>\n",
              "      <td>Spain</td>\n",
              "      <td>Female</td>\n",
              "      <td>43</td>\n",
              "      <td>2</td>\n",
              "      <td>125510.82</td>\n",
              "      <td>1</td>\n",
              "      <td>1</td>\n",
              "      <td>1</td>\n",
              "      <td>79084.10</td>\n",
              "    </tr>\n",
              "  </tbody>\n",
              "</table>\n",
              "</div>\n",
              "      <button class=\"colab-df-convert\" onclick=\"convertToInteractive('df-b087bb14-8b20-4ca5-9ed4-ab9c26cb6cb6')\"\n",
              "              title=\"Convert this dataframe to an interactive table.\"\n",
              "              style=\"display:none;\">\n",
              "        \n",
              "  <svg xmlns=\"http://www.w3.org/2000/svg\" height=\"24px\"viewBox=\"0 0 24 24\"\n",
              "       width=\"24px\">\n",
              "    <path d=\"M0 0h24v24H0V0z\" fill=\"none\"/>\n",
              "    <path d=\"M18.56 5.44l.94 2.06.94-2.06 2.06-.94-2.06-.94-.94-2.06-.94 2.06-2.06.94zm-11 1L8.5 8.5l.94-2.06 2.06-.94-2.06-.94L8.5 2.5l-.94 2.06-2.06.94zm10 10l.94 2.06.94-2.06 2.06-.94-2.06-.94-.94-2.06-.94 2.06-2.06.94z\"/><path d=\"M17.41 7.96l-1.37-1.37c-.4-.4-.92-.59-1.43-.59-.52 0-1.04.2-1.43.59L10.3 9.45l-7.72 7.72c-.78.78-.78 2.05 0 2.83L4 21.41c.39.39.9.59 1.41.59.51 0 1.02-.2 1.41-.59l7.78-7.78 2.81-2.81c.8-.78.8-2.07 0-2.86zM5.41 20L4 18.59l7.72-7.72 1.47 1.35L5.41 20z\"/>\n",
              "  </svg>\n",
              "      </button>\n",
              "      \n",
              "  <style>\n",
              "    .colab-df-container {\n",
              "      display:flex;\n",
              "      flex-wrap:wrap;\n",
              "      gap: 12px;\n",
              "    }\n",
              "\n",
              "    .colab-df-convert {\n",
              "      background-color: #E8F0FE;\n",
              "      border: none;\n",
              "      border-radius: 50%;\n",
              "      cursor: pointer;\n",
              "      display: none;\n",
              "      fill: #1967D2;\n",
              "      height: 32px;\n",
              "      padding: 0 0 0 0;\n",
              "      width: 32px;\n",
              "    }\n",
              "\n",
              "    .colab-df-convert:hover {\n",
              "      background-color: #E2EBFA;\n",
              "      box-shadow: 0px 1px 2px rgba(60, 64, 67, 0.3), 0px 1px 3px 1px rgba(60, 64, 67, 0.15);\n",
              "      fill: #174EA6;\n",
              "    }\n",
              "\n",
              "    [theme=dark] .colab-df-convert {\n",
              "      background-color: #3B4455;\n",
              "      fill: #D2E3FC;\n",
              "    }\n",
              "\n",
              "    [theme=dark] .colab-df-convert:hover {\n",
              "      background-color: #434B5C;\n",
              "      box-shadow: 0px 1px 3px 1px rgba(0, 0, 0, 0.15);\n",
              "      filter: drop-shadow(0px 1px 2px rgba(0, 0, 0, 0.3));\n",
              "      fill: #FFFFFF;\n",
              "    }\n",
              "  </style>\n",
              "\n",
              "      <script>\n",
              "        const buttonEl =\n",
              "          document.querySelector('#df-b087bb14-8b20-4ca5-9ed4-ab9c26cb6cb6 button.colab-df-convert');\n",
              "        buttonEl.style.display =\n",
              "          google.colab.kernel.accessAllowed ? 'block' : 'none';\n",
              "\n",
              "        async function convertToInteractive(key) {\n",
              "          const element = document.querySelector('#df-b087bb14-8b20-4ca5-9ed4-ab9c26cb6cb6');\n",
              "          const dataTable =\n",
              "            await google.colab.kernel.invokeFunction('convertToInteractive',\n",
              "                                                     [key], {});\n",
              "          if (!dataTable) return;\n",
              "\n",
              "          const docLinkHtml = 'Like what you see? Visit the ' +\n",
              "            '<a target=\"_blank\" href=https://colab.research.google.com/notebooks/data_table.ipynb>data table notebook</a>'\n",
              "            + ' to learn more about interactive tables.';\n",
              "          element.innerHTML = '';\n",
              "          dataTable['output_type'] = 'display_data';\n",
              "          await google.colab.output.renderOutput(dataTable, element);\n",
              "          const docLink = document.createElement('div');\n",
              "          docLink.innerHTML = docLinkHtml;\n",
              "          element.appendChild(docLink);\n",
              "        }\n",
              "      </script>\n",
              "    </div>\n",
              "  </div>\n",
              "  "
            ]
          },
          "metadata": {},
          "execution_count": 5
        }
      ]
    },
    {
      "cell_type": "code",
      "source": [
        "y.head()"
      ],
      "metadata": {
        "colab": {
          "base_uri": "https://localhost:8080/"
        },
        "id": "JpxRlpW7FylY",
        "outputId": "014886e2-f33d-4d9b-e90b-01f45b2ef90e"
      },
      "execution_count": null,
      "outputs": [
        {
          "output_type": "execute_result",
          "data": {
            "text/plain": [
              "0    1\n",
              "1    0\n",
              "2    1\n",
              "3    0\n",
              "4    0\n",
              "Name: Exited, dtype: int64"
            ]
          },
          "metadata": {},
          "execution_count": 6
        }
      ]
    },
    {
      "cell_type": "code",
      "source": [
        "# Feature Engineering:\n",
        "geography = pd.get_dummies(X['Geography'],drop_first=True) # This basically does one hot encoding to the column. drop_first = True drops France as it can be identified when Germany and Spain are 0"
      ],
      "metadata": {
        "id": "UZPD61XwF0cC"
      },
      "execution_count": null,
      "outputs": []
    },
    {
      "cell_type": "code",
      "source": [
        "gender = pd.get_dummies(X['Gender'], drop_first=True)"
      ],
      "metadata": {
        "id": "IEGLmKxZX8Z9"
      },
      "execution_count": null,
      "outputs": []
    },
    {
      "cell_type": "code",
      "source": [
        "# Concactinate these variables with dataframe:\n",
        "X=X.drop(['Geography','Gender'], axis=1)"
      ],
      "metadata": {
        "id": "FCLmWGKtYzTx"
      },
      "execution_count": null,
      "outputs": []
    },
    {
      "cell_type": "code",
      "source": [
        "X = pd.concat([X,geography,gender], axis=1)"
      ],
      "metadata": {
        "id": "erZCPc2XY2iE"
      },
      "execution_count": null,
      "outputs": []
    },
    {
      "cell_type": "code",
      "source": [
        "X"
      ],
      "metadata": {
        "colab": {
          "base_uri": "https://localhost:8080/",
          "height": 424
        },
        "id": "71T3L6cVdyp5",
        "outputId": "0106e300-9479-47d7-9919-45d8ad858c4c"
      },
      "execution_count": null,
      "outputs": [
        {
          "output_type": "execute_result",
          "data": {
            "text/plain": [
              "      CreditScore  Age  Tenure    Balance  NumOfProducts  HasCrCard  \\\n",
              "0             619   42       2       0.00              1          1   \n",
              "1             608   41       1   83807.86              1          0   \n",
              "2             502   42       8  159660.80              3          1   \n",
              "3             699   39       1       0.00              2          0   \n",
              "4             850   43       2  125510.82              1          1   \n",
              "...           ...  ...     ...        ...            ...        ...   \n",
              "9995          771   39       5       0.00              2          1   \n",
              "9996          516   35      10   57369.61              1          1   \n",
              "9997          709   36       7       0.00              1          0   \n",
              "9998          772   42       3   75075.31              2          1   \n",
              "9999          792   28       4  130142.79              1          1   \n",
              "\n",
              "      IsActiveMember  EstimatedSalary  Germany  Spain  Male  \n",
              "0                  1        101348.88        0      0     0  \n",
              "1                  1        112542.58        0      1     0  \n",
              "2                  0        113931.57        0      0     0  \n",
              "3                  0         93826.63        0      0     0  \n",
              "4                  1         79084.10        0      1     0  \n",
              "...              ...              ...      ...    ...   ...  \n",
              "9995               0         96270.64        0      0     1  \n",
              "9996               1        101699.77        0      0     1  \n",
              "9997               1         42085.58        0      0     0  \n",
              "9998               0         92888.52        1      0     1  \n",
              "9999               0         38190.78        0      0     0  \n",
              "\n",
              "[10000 rows x 11 columns]"
            ],
            "text/html": [
              "\n",
              "  <div id=\"df-c00368d6-ad7c-42e2-9f2d-c045638f7269\">\n",
              "    <div class=\"colab-df-container\">\n",
              "      <div>\n",
              "<style scoped>\n",
              "    .dataframe tbody tr th:only-of-type {\n",
              "        vertical-align: middle;\n",
              "    }\n",
              "\n",
              "    .dataframe tbody tr th {\n",
              "        vertical-align: top;\n",
              "    }\n",
              "\n",
              "    .dataframe thead th {\n",
              "        text-align: right;\n",
              "    }\n",
              "</style>\n",
              "<table border=\"1\" class=\"dataframe\">\n",
              "  <thead>\n",
              "    <tr style=\"text-align: right;\">\n",
              "      <th></th>\n",
              "      <th>CreditScore</th>\n",
              "      <th>Age</th>\n",
              "      <th>Tenure</th>\n",
              "      <th>Balance</th>\n",
              "      <th>NumOfProducts</th>\n",
              "      <th>HasCrCard</th>\n",
              "      <th>IsActiveMember</th>\n",
              "      <th>EstimatedSalary</th>\n",
              "      <th>Germany</th>\n",
              "      <th>Spain</th>\n",
              "      <th>Male</th>\n",
              "    </tr>\n",
              "  </thead>\n",
              "  <tbody>\n",
              "    <tr>\n",
              "      <th>0</th>\n",
              "      <td>619</td>\n",
              "      <td>42</td>\n",
              "      <td>2</td>\n",
              "      <td>0.00</td>\n",
              "      <td>1</td>\n",
              "      <td>1</td>\n",
              "      <td>1</td>\n",
              "      <td>101348.88</td>\n",
              "      <td>0</td>\n",
              "      <td>0</td>\n",
              "      <td>0</td>\n",
              "    </tr>\n",
              "    <tr>\n",
              "      <th>1</th>\n",
              "      <td>608</td>\n",
              "      <td>41</td>\n",
              "      <td>1</td>\n",
              "      <td>83807.86</td>\n",
              "      <td>1</td>\n",
              "      <td>0</td>\n",
              "      <td>1</td>\n",
              "      <td>112542.58</td>\n",
              "      <td>0</td>\n",
              "      <td>1</td>\n",
              "      <td>0</td>\n",
              "    </tr>\n",
              "    <tr>\n",
              "      <th>2</th>\n",
              "      <td>502</td>\n",
              "      <td>42</td>\n",
              "      <td>8</td>\n",
              "      <td>159660.80</td>\n",
              "      <td>3</td>\n",
              "      <td>1</td>\n",
              "      <td>0</td>\n",
              "      <td>113931.57</td>\n",
              "      <td>0</td>\n",
              "      <td>0</td>\n",
              "      <td>0</td>\n",
              "    </tr>\n",
              "    <tr>\n",
              "      <th>3</th>\n",
              "      <td>699</td>\n",
              "      <td>39</td>\n",
              "      <td>1</td>\n",
              "      <td>0.00</td>\n",
              "      <td>2</td>\n",
              "      <td>0</td>\n",
              "      <td>0</td>\n",
              "      <td>93826.63</td>\n",
              "      <td>0</td>\n",
              "      <td>0</td>\n",
              "      <td>0</td>\n",
              "    </tr>\n",
              "    <tr>\n",
              "      <th>4</th>\n",
              "      <td>850</td>\n",
              "      <td>43</td>\n",
              "      <td>2</td>\n",
              "      <td>125510.82</td>\n",
              "      <td>1</td>\n",
              "      <td>1</td>\n",
              "      <td>1</td>\n",
              "      <td>79084.10</td>\n",
              "      <td>0</td>\n",
              "      <td>1</td>\n",
              "      <td>0</td>\n",
              "    </tr>\n",
              "    <tr>\n",
              "      <th>...</th>\n",
              "      <td>...</td>\n",
              "      <td>...</td>\n",
              "      <td>...</td>\n",
              "      <td>...</td>\n",
              "      <td>...</td>\n",
              "      <td>...</td>\n",
              "      <td>...</td>\n",
              "      <td>...</td>\n",
              "      <td>...</td>\n",
              "      <td>...</td>\n",
              "      <td>...</td>\n",
              "    </tr>\n",
              "    <tr>\n",
              "      <th>9995</th>\n",
              "      <td>771</td>\n",
              "      <td>39</td>\n",
              "      <td>5</td>\n",
              "      <td>0.00</td>\n",
              "      <td>2</td>\n",
              "      <td>1</td>\n",
              "      <td>0</td>\n",
              "      <td>96270.64</td>\n",
              "      <td>0</td>\n",
              "      <td>0</td>\n",
              "      <td>1</td>\n",
              "    </tr>\n",
              "    <tr>\n",
              "      <th>9996</th>\n",
              "      <td>516</td>\n",
              "      <td>35</td>\n",
              "      <td>10</td>\n",
              "      <td>57369.61</td>\n",
              "      <td>1</td>\n",
              "      <td>1</td>\n",
              "      <td>1</td>\n",
              "      <td>101699.77</td>\n",
              "      <td>0</td>\n",
              "      <td>0</td>\n",
              "      <td>1</td>\n",
              "    </tr>\n",
              "    <tr>\n",
              "      <th>9997</th>\n",
              "      <td>709</td>\n",
              "      <td>36</td>\n",
              "      <td>7</td>\n",
              "      <td>0.00</td>\n",
              "      <td>1</td>\n",
              "      <td>0</td>\n",
              "      <td>1</td>\n",
              "      <td>42085.58</td>\n",
              "      <td>0</td>\n",
              "      <td>0</td>\n",
              "      <td>0</td>\n",
              "    </tr>\n",
              "    <tr>\n",
              "      <th>9998</th>\n",
              "      <td>772</td>\n",
              "      <td>42</td>\n",
              "      <td>3</td>\n",
              "      <td>75075.31</td>\n",
              "      <td>2</td>\n",
              "      <td>1</td>\n",
              "      <td>0</td>\n",
              "      <td>92888.52</td>\n",
              "      <td>1</td>\n",
              "      <td>0</td>\n",
              "      <td>1</td>\n",
              "    </tr>\n",
              "    <tr>\n",
              "      <th>9999</th>\n",
              "      <td>792</td>\n",
              "      <td>28</td>\n",
              "      <td>4</td>\n",
              "      <td>130142.79</td>\n",
              "      <td>1</td>\n",
              "      <td>1</td>\n",
              "      <td>0</td>\n",
              "      <td>38190.78</td>\n",
              "      <td>0</td>\n",
              "      <td>0</td>\n",
              "      <td>0</td>\n",
              "    </tr>\n",
              "  </tbody>\n",
              "</table>\n",
              "<p>10000 rows × 11 columns</p>\n",
              "</div>\n",
              "      <button class=\"colab-df-convert\" onclick=\"convertToInteractive('df-c00368d6-ad7c-42e2-9f2d-c045638f7269')\"\n",
              "              title=\"Convert this dataframe to an interactive table.\"\n",
              "              style=\"display:none;\">\n",
              "        \n",
              "  <svg xmlns=\"http://www.w3.org/2000/svg\" height=\"24px\"viewBox=\"0 0 24 24\"\n",
              "       width=\"24px\">\n",
              "    <path d=\"M0 0h24v24H0V0z\" fill=\"none\"/>\n",
              "    <path d=\"M18.56 5.44l.94 2.06.94-2.06 2.06-.94-2.06-.94-.94-2.06-.94 2.06-2.06.94zm-11 1L8.5 8.5l.94-2.06 2.06-.94-2.06-.94L8.5 2.5l-.94 2.06-2.06.94zm10 10l.94 2.06.94-2.06 2.06-.94-2.06-.94-.94-2.06-.94 2.06-2.06.94z\"/><path d=\"M17.41 7.96l-1.37-1.37c-.4-.4-.92-.59-1.43-.59-.52 0-1.04.2-1.43.59L10.3 9.45l-7.72 7.72c-.78.78-.78 2.05 0 2.83L4 21.41c.39.39.9.59 1.41.59.51 0 1.02-.2 1.41-.59l7.78-7.78 2.81-2.81c.8-.78.8-2.07 0-2.86zM5.41 20L4 18.59l7.72-7.72 1.47 1.35L5.41 20z\"/>\n",
              "  </svg>\n",
              "      </button>\n",
              "      \n",
              "  <style>\n",
              "    .colab-df-container {\n",
              "      display:flex;\n",
              "      flex-wrap:wrap;\n",
              "      gap: 12px;\n",
              "    }\n",
              "\n",
              "    .colab-df-convert {\n",
              "      background-color: #E8F0FE;\n",
              "      border: none;\n",
              "      border-radius: 50%;\n",
              "      cursor: pointer;\n",
              "      display: none;\n",
              "      fill: #1967D2;\n",
              "      height: 32px;\n",
              "      padding: 0 0 0 0;\n",
              "      width: 32px;\n",
              "    }\n",
              "\n",
              "    .colab-df-convert:hover {\n",
              "      background-color: #E2EBFA;\n",
              "      box-shadow: 0px 1px 2px rgba(60, 64, 67, 0.3), 0px 1px 3px 1px rgba(60, 64, 67, 0.15);\n",
              "      fill: #174EA6;\n",
              "    }\n",
              "\n",
              "    [theme=dark] .colab-df-convert {\n",
              "      background-color: #3B4455;\n",
              "      fill: #D2E3FC;\n",
              "    }\n",
              "\n",
              "    [theme=dark] .colab-df-convert:hover {\n",
              "      background-color: #434B5C;\n",
              "      box-shadow: 0px 1px 3px 1px rgba(0, 0, 0, 0.15);\n",
              "      filter: drop-shadow(0px 1px 2px rgba(0, 0, 0, 0.3));\n",
              "      fill: #FFFFFF;\n",
              "    }\n",
              "  </style>\n",
              "\n",
              "      <script>\n",
              "        const buttonEl =\n",
              "          document.querySelector('#df-c00368d6-ad7c-42e2-9f2d-c045638f7269 button.colab-df-convert');\n",
              "        buttonEl.style.display =\n",
              "          google.colab.kernel.accessAllowed ? 'block' : 'none';\n",
              "\n",
              "        async function convertToInteractive(key) {\n",
              "          const element = document.querySelector('#df-c00368d6-ad7c-42e2-9f2d-c045638f7269');\n",
              "          const dataTable =\n",
              "            await google.colab.kernel.invokeFunction('convertToInteractive',\n",
              "                                                     [key], {});\n",
              "          if (!dataTable) return;\n",
              "\n",
              "          const docLinkHtml = 'Like what you see? Visit the ' +\n",
              "            '<a target=\"_blank\" href=https://colab.research.google.com/notebooks/data_table.ipynb>data table notebook</a>'\n",
              "            + ' to learn more about interactive tables.';\n",
              "          element.innerHTML = '';\n",
              "          dataTable['output_type'] = 'display_data';\n",
              "          await google.colab.output.renderOutput(dataTable, element);\n",
              "          const docLink = document.createElement('div');\n",
              "          docLink.innerHTML = docLinkHtml;\n",
              "          element.appendChild(docLink);\n",
              "        }\n",
              "      </script>\n",
              "    </div>\n",
              "  </div>\n",
              "  "
            ]
          },
          "metadata": {},
          "execution_count": 11
        }
      ]
    },
    {
      "cell_type": "code",
      "source": [
        "# Train-test split:\n",
        "from sklearn.model_selection import train_test_split\n",
        "\n",
        "X_train,X_test, y_train,y_test = train_test_split(X,y,test_size=0.2, random_state=0)"
      ],
      "metadata": {
        "id": "nv5mfXVlaE2o"
      },
      "execution_count": null,
      "outputs": []
    },
    {
      "cell_type": "code",
      "source": [
        "# Feature Scaling:\n",
        "from sklearn.preprocessing import StandardScaler\n",
        "sc = StandardScaler()\n",
        "X_train = sc.fit_transform(X_train)\n",
        "X_test = sc.transform(X_test)"
      ],
      "metadata": {
        "id": "ghZi-GIkbV9I"
      },
      "execution_count": null,
      "outputs": []
    },
    {
      "cell_type": "code",
      "source": [
        "X_train"
      ],
      "metadata": {
        "colab": {
          "base_uri": "https://localhost:8080/"
        },
        "id": "teJxxJ0rdEDf",
        "outputId": "683a6989-f2d8-4d5a-eea3-717ec4f0517b"
      },
      "execution_count": null,
      "outputs": [
        {
          "output_type": "execute_result",
          "data": {
            "text/plain": [
              "array([[ 0.16958176, -0.46460796,  0.00666099, ..., -0.5698444 ,\n",
              "         1.74309049, -1.09168714],\n",
              "       [-2.30455945,  0.30102557, -1.37744033, ...,  1.75486502,\n",
              "        -0.57369368,  0.91601335],\n",
              "       [-1.19119591, -0.94312892, -1.031415  , ..., -0.5698444 ,\n",
              "        -0.57369368, -1.09168714],\n",
              "       ...,\n",
              "       [ 0.9015152 , -0.36890377,  0.00666099, ..., -0.5698444 ,\n",
              "        -0.57369368,  0.91601335],\n",
              "       [-0.62420521, -0.08179119,  1.39076231, ..., -0.5698444 ,\n",
              "         1.74309049, -1.09168714],\n",
              "       [-0.28401079,  0.87525072, -1.37744033, ...,  1.75486502,\n",
              "        -0.57369368, -1.09168714]])"
            ]
          },
          "metadata": {},
          "execution_count": 14
        }
      ]
    },
    {
      "cell_type": "code",
      "source": [
        "X_train.shape"
      ],
      "metadata": {
        "colab": {
          "base_uri": "https://localhost:8080/"
        },
        "id": "tWUZS2ZBdO1a",
        "outputId": "47ca9699-9ee7-4610-a02f-04ca0f04e87b"
      },
      "execution_count": null,
      "outputs": [
        {
          "output_type": "execute_result",
          "data": {
            "text/plain": [
              "(8000, 11)"
            ]
          },
          "metadata": {},
          "execution_count": 15
        }
      ]
    },
    {
      "cell_type": "code",
      "source": [
        "# Implement ANN\n",
        "from tensorflow.keras.models import Sequential\n",
        "from tensorflow.keras.layers import Dense\n",
        "from tensorflow.keras.layers import LeakyReLU,PReLU, ReLU\n",
        "from tensorflow.keras.layers import Dropout"
      ],
      "metadata": {
        "id": "CZbQtr3EdTbU"
      },
      "execution_count": null,
      "outputs": []
    },
    {
      "cell_type": "code",
      "source": [
        "# Initialize ANN:\n",
        "classifier = Sequential()\n",
        "\n",
        "# Adding the input layer:\n",
        "classifier.add(Dense(units=11,activation='relu'))\n",
        "\n",
        "# Adding the first hidden layer:\n",
        "classifier.add(Dense(units=7, activation='relu'))\n",
        "\n",
        "# Adding the second hidden layer:\n",
        "classifier.add(Dense(units=6, activation='relu'))\n",
        "\n",
        "# Adding the outputlayer:\n",
        "classifier.add(Dense(units=1, activation='sigmoid'))\n"
      ],
      "metadata": {
        "id": "zER4-ZhAtn02"
      },
      "execution_count": null,
      "outputs": []
    },
    {
      "cell_type": "code",
      "source": [
        "# If you want to have custom Learning Rate, do this:\n",
        "# opt = tensorflow.keras.optimizers.Adam(learning_rate=0.01) and pass opt in the below step\n",
        "\n",
        "# Compiling all of the classifier. Note that the default L.R for adam is 0.001\n",
        "classifier.compile(loss='binary_crossentropy',optimizer='adam', metrics=['accuracy'])"
      ],
      "metadata": {
        "id": "shSeTs9rwZwh"
      },
      "execution_count": null,
      "outputs": []
    },
    {
      "cell_type": "code",
      "source": [
        "# Early Stopping:\n",
        "early_stopping = tf.keras.callbacks.EarlyStopping(\n",
        "    monitor=\"val_loss\",\n",
        "    min_delta=0.0001,\n",
        "    patience=20,\n",
        "    verbose=1,\n",
        "    mode=\"auto\",\n",
        "    baseline=None,\n",
        "    restore_best_weights=False,\n",
        "    start_from_epoch=0,\n",
        ")"
      ],
      "metadata": {
        "id": "lKvh4b-m00S_"
      },
      "execution_count": null,
      "outputs": []
    },
    {
      "cell_type": "code",
      "source": [
        "model_history = classifier.fit(X_train,y_train, validation_split=0.33, batch_size=10, epochs=1000, callbacks=early_stopping)"
      ],
      "metadata": {
        "colab": {
          "base_uri": "https://localhost:8080/"
        },
        "id": "EnAGiX0pxhOl",
        "outputId": "03adec24-d84b-4d29-c7ed-7a053d313c37"
      },
      "execution_count": null,
      "outputs": [
        {
          "output_type": "stream",
          "name": "stdout",
          "text": [
            "Epoch 1/1000\n",
            "536/536 [==============================] - 8s 5ms/step - loss: 0.4953 - accuracy: 0.7987 - val_loss: 0.4509 - val_accuracy: 0.8031\n",
            "Epoch 2/1000\n",
            "536/536 [==============================] - 3s 5ms/step - loss: 0.4215 - accuracy: 0.8138 - val_loss: 0.4134 - val_accuracy: 0.8092\n",
            "Epoch 3/1000\n",
            "536/536 [==============================] - 3s 5ms/step - loss: 0.3908 - accuracy: 0.8190 - val_loss: 0.3949 - val_accuracy: 0.8145\n",
            "Epoch 4/1000\n",
            "536/536 [==============================] - 4s 7ms/step - loss: 0.3749 - accuracy: 0.8207 - val_loss: 0.3856 - val_accuracy: 0.8183\n",
            "Epoch 5/1000\n",
            "536/536 [==============================] - 3s 5ms/step - loss: 0.3655 - accuracy: 0.8304 - val_loss: 0.3823 - val_accuracy: 0.8398\n",
            "Epoch 6/1000\n",
            "536/536 [==============================] - 3s 5ms/step - loss: 0.3593 - accuracy: 0.8468 - val_loss: 0.3785 - val_accuracy: 0.8444\n",
            "Epoch 7/1000\n",
            "536/536 [==============================] - 3s 5ms/step - loss: 0.3552 - accuracy: 0.8535 - val_loss: 0.3751 - val_accuracy: 0.8406\n",
            "Epoch 8/1000\n",
            "536/536 [==============================] - 3s 5ms/step - loss: 0.3517 - accuracy: 0.8559 - val_loss: 0.3781 - val_accuracy: 0.8417\n",
            "Epoch 9/1000\n",
            "536/536 [==============================] - 3s 6ms/step - loss: 0.3502 - accuracy: 0.8559 - val_loss: 0.3719 - val_accuracy: 0.8429\n",
            "Epoch 10/1000\n",
            "536/536 [==============================] - 3s 5ms/step - loss: 0.3471 - accuracy: 0.8563 - val_loss: 0.3693 - val_accuracy: 0.8474\n",
            "Epoch 11/1000\n",
            "536/536 [==============================] - 3s 5ms/step - loss: 0.3458 - accuracy: 0.8578 - val_loss: 0.3704 - val_accuracy: 0.8459\n",
            "Epoch 12/1000\n",
            "536/536 [==============================] - 2s 5ms/step - loss: 0.3442 - accuracy: 0.8584 - val_loss: 0.3681 - val_accuracy: 0.8485\n",
            "Epoch 13/1000\n",
            "536/536 [==============================] - 3s 6ms/step - loss: 0.3427 - accuracy: 0.8608 - val_loss: 0.3663 - val_accuracy: 0.8482\n",
            "Epoch 14/1000\n",
            "536/536 [==============================] - 2s 5ms/step - loss: 0.3415 - accuracy: 0.8600 - val_loss: 0.3668 - val_accuracy: 0.8482\n",
            "Epoch 15/1000\n",
            "536/536 [==============================] - 3s 5ms/step - loss: 0.3401 - accuracy: 0.8600 - val_loss: 0.3663 - val_accuracy: 0.8489\n",
            "Epoch 16/1000\n",
            "536/536 [==============================] - 3s 5ms/step - loss: 0.3382 - accuracy: 0.8634 - val_loss: 0.3645 - val_accuracy: 0.8501\n",
            "Epoch 17/1000\n",
            "536/536 [==============================] - 3s 5ms/step - loss: 0.3372 - accuracy: 0.8638 - val_loss: 0.3638 - val_accuracy: 0.8459\n",
            "Epoch 18/1000\n",
            "536/536 [==============================] - 4s 7ms/step - loss: 0.3361 - accuracy: 0.8660 - val_loss: 0.3638 - val_accuracy: 0.8463\n",
            "Epoch 19/1000\n",
            "536/536 [==============================] - 3s 5ms/step - loss: 0.3345 - accuracy: 0.8628 - val_loss: 0.3620 - val_accuracy: 0.8466\n",
            "Epoch 20/1000\n",
            "536/536 [==============================] - 2s 5ms/step - loss: 0.3338 - accuracy: 0.8645 - val_loss: 0.3613 - val_accuracy: 0.8489\n",
            "Epoch 21/1000\n",
            "536/536 [==============================] - 3s 5ms/step - loss: 0.3331 - accuracy: 0.8653 - val_loss: 0.3606 - val_accuracy: 0.8485\n",
            "Epoch 22/1000\n",
            "536/536 [==============================] - 3s 6ms/step - loss: 0.3317 - accuracy: 0.8655 - val_loss: 0.3607 - val_accuracy: 0.8485\n",
            "Epoch 23/1000\n",
            "536/536 [==============================] - 3s 5ms/step - loss: 0.3311 - accuracy: 0.8662 - val_loss: 0.3599 - val_accuracy: 0.8535\n",
            "Epoch 24/1000\n",
            "536/536 [==============================] - 3s 5ms/step - loss: 0.3298 - accuracy: 0.8649 - val_loss: 0.3647 - val_accuracy: 0.8523\n",
            "Epoch 25/1000\n",
            "536/536 [==============================] - 2s 5ms/step - loss: 0.3300 - accuracy: 0.8677 - val_loss: 0.3598 - val_accuracy: 0.8504\n",
            "Epoch 26/1000\n",
            "536/536 [==============================] - 3s 5ms/step - loss: 0.3291 - accuracy: 0.8690 - val_loss: 0.3606 - val_accuracy: 0.8519\n",
            "Epoch 27/1000\n",
            "536/536 [==============================] - 3s 6ms/step - loss: 0.3285 - accuracy: 0.8666 - val_loss: 0.3596 - val_accuracy: 0.8504\n",
            "Epoch 28/1000\n",
            "536/536 [==============================] - 3s 5ms/step - loss: 0.3283 - accuracy: 0.8662 - val_loss: 0.3607 - val_accuracy: 0.8516\n",
            "Epoch 29/1000\n",
            "536/536 [==============================] - 3s 5ms/step - loss: 0.3278 - accuracy: 0.8688 - val_loss: 0.3596 - val_accuracy: 0.8493\n",
            "Epoch 30/1000\n",
            "536/536 [==============================] - 3s 5ms/step - loss: 0.3272 - accuracy: 0.8668 - val_loss: 0.3593 - val_accuracy: 0.8501\n",
            "Epoch 31/1000\n",
            "536/536 [==============================] - 4s 7ms/step - loss: 0.3267 - accuracy: 0.8668 - val_loss: 0.3590 - val_accuracy: 0.8489\n",
            "Epoch 32/1000\n",
            "536/536 [==============================] - 3s 5ms/step - loss: 0.3259 - accuracy: 0.8690 - val_loss: 0.3592 - val_accuracy: 0.8542\n",
            "Epoch 33/1000\n",
            "536/536 [==============================] - 3s 5ms/step - loss: 0.3258 - accuracy: 0.8666 - val_loss: 0.3586 - val_accuracy: 0.8519\n",
            "Epoch 34/1000\n",
            "536/536 [==============================] - 3s 5ms/step - loss: 0.3257 - accuracy: 0.8705 - val_loss: 0.3583 - val_accuracy: 0.8485\n",
            "Epoch 35/1000\n",
            "536/536 [==============================] - 3s 5ms/step - loss: 0.3251 - accuracy: 0.8683 - val_loss: 0.3592 - val_accuracy: 0.8535\n",
            "Epoch 36/1000\n",
            "536/536 [==============================] - 3s 6ms/step - loss: 0.3246 - accuracy: 0.8683 - val_loss: 0.3568 - val_accuracy: 0.8523\n",
            "Epoch 37/1000\n",
            "536/536 [==============================] - 3s 5ms/step - loss: 0.3237 - accuracy: 0.8694 - val_loss: 0.3604 - val_accuracy: 0.8516\n",
            "Epoch 38/1000\n",
            "536/536 [==============================] - 3s 5ms/step - loss: 0.3246 - accuracy: 0.8668 - val_loss: 0.3602 - val_accuracy: 0.8493\n",
            "Epoch 39/1000\n",
            "536/536 [==============================] - 3s 5ms/step - loss: 0.3234 - accuracy: 0.8690 - val_loss: 0.3617 - val_accuracy: 0.8523\n",
            "Epoch 40/1000\n",
            "536/536 [==============================] - 3s 6ms/step - loss: 0.3237 - accuracy: 0.8681 - val_loss: 0.3582 - val_accuracy: 0.8535\n",
            "Epoch 41/1000\n",
            "536/536 [==============================] - 3s 5ms/step - loss: 0.3232 - accuracy: 0.8681 - val_loss: 0.3600 - val_accuracy: 0.8501\n",
            "Epoch 42/1000\n",
            "536/536 [==============================] - 3s 5ms/step - loss: 0.3228 - accuracy: 0.8692 - val_loss: 0.3580 - val_accuracy: 0.8523\n",
            "Epoch 43/1000\n",
            "536/536 [==============================] - 3s 5ms/step - loss: 0.3232 - accuracy: 0.8692 - val_loss: 0.3581 - val_accuracy: 0.8523\n",
            "Epoch 44/1000\n",
            "536/536 [==============================] - 3s 5ms/step - loss: 0.3221 - accuracy: 0.8701 - val_loss: 0.3587 - val_accuracy: 0.8504\n",
            "Epoch 45/1000\n",
            "536/536 [==============================] - 3s 6ms/step - loss: 0.3227 - accuracy: 0.8688 - val_loss: 0.3580 - val_accuracy: 0.8508\n",
            "Epoch 46/1000\n",
            "536/536 [==============================] - 3s 6ms/step - loss: 0.3219 - accuracy: 0.8694 - val_loss: 0.3583 - val_accuracy: 0.8504\n",
            "Epoch 47/1000\n",
            "536/536 [==============================] - 3s 5ms/step - loss: 0.3216 - accuracy: 0.8688 - val_loss: 0.3623 - val_accuracy: 0.8489\n",
            "Epoch 48/1000\n",
            "536/536 [==============================] - 3s 5ms/step - loss: 0.3218 - accuracy: 0.8675 - val_loss: 0.3582 - val_accuracy: 0.8523\n",
            "Epoch 49/1000\n",
            "536/536 [==============================] - 4s 7ms/step - loss: 0.3204 - accuracy: 0.8688 - val_loss: 0.3600 - val_accuracy: 0.8554\n",
            "Epoch 50/1000\n",
            "536/536 [==============================] - 3s 5ms/step - loss: 0.3213 - accuracy: 0.8694 - val_loss: 0.3586 - val_accuracy: 0.8527\n",
            "Epoch 51/1000\n",
            "536/536 [==============================] - 3s 5ms/step - loss: 0.3211 - accuracy: 0.8673 - val_loss: 0.3595 - val_accuracy: 0.8516\n",
            "Epoch 52/1000\n",
            "536/536 [==============================] - 3s 5ms/step - loss: 0.3203 - accuracy: 0.8679 - val_loss: 0.3582 - val_accuracy: 0.8538\n",
            "Epoch 53/1000\n",
            "536/536 [==============================] - 3s 6ms/step - loss: 0.3195 - accuracy: 0.8692 - val_loss: 0.3613 - val_accuracy: 0.8519\n",
            "Epoch 54/1000\n",
            "536/536 [==============================] - 3s 5ms/step - loss: 0.3206 - accuracy: 0.8673 - val_loss: 0.3589 - val_accuracy: 0.8538\n",
            "Epoch 55/1000\n",
            "536/536 [==============================] - 3s 5ms/step - loss: 0.3192 - accuracy: 0.8690 - val_loss: 0.3585 - val_accuracy: 0.8542\n",
            "Epoch 56/1000\n",
            "536/536 [==============================] - 2s 5ms/step - loss: 0.3191 - accuracy: 0.8698 - val_loss: 0.3607 - val_accuracy: 0.8535\n",
            "Epoch 56: early stopping\n"
          ]
        }
      ]
    },
    {
      "cell_type": "code",
      "source": [
        "model_history.history.keys()"
      ],
      "metadata": {
        "colab": {
          "base_uri": "https://localhost:8080/"
        },
        "id": "Zfgw_Yv8yCmz",
        "outputId": "b4854cc3-e6ae-4e9f-dd00-0ec6357061bb"
      },
      "execution_count": null,
      "outputs": [
        {
          "output_type": "stream",
          "name": "stderr",
          "text": [
            "Exception ignored in: <function _xla_gc_callback at 0x7f52768b5990>\n",
            "Traceback (most recent call last):\n",
            "  File \"/usr/local/lib/python3.10/dist-packages/jax/_src/lib/__init__.py\", line 103, in _xla_gc_callback\n",
            "    def _xla_gc_callback(*args):\n",
            "KeyboardInterrupt: \n"
          ]
        },
        {
          "output_type": "execute_result",
          "data": {
            "text/plain": [
              "dict_keys(['loss', 'accuracy', 'val_loss', 'val_accuracy'])"
            ]
          },
          "metadata": {},
          "execution_count": 23
        }
      ]
    },
    {
      "cell_type": "code",
      "source": [
        "plt.plot(model_history.history['accuracy'])\n",
        "plt.plot(model_history.history['val_accuracy'])\n",
        "plt.title('model accuracy')\n",
        "plt.ylabel('accuracy')\n",
        "plt.xlabel('epoch')\n",
        "plt.legend(['train','test'], loc='upper left')\n",
        "plt.show()"
      ],
      "metadata": {
        "colab": {
          "base_uri": "https://localhost:8080/",
          "height": 472
        },
        "id": "QuQfQZgCAn7i",
        "outputId": "03488a00-f4cb-4da3-f946-d5e3458fb071"
      },
      "execution_count": null,
      "outputs": [
        {
          "output_type": "display_data",
          "data": {
            "text/plain": [
              "<Figure size 640x480 with 1 Axes>"
            ],
            "image/png": "[encoded data removed]"
          },
          "metadata": {}
        }
      ]
    },
    {
      "cell_type": "code",
      "source": [
        "plt.plot(model_history.history['loss'])\n",
        "plt.plot(model_history.history['val_loss'])\n",
        "plt.title('model accuracy')\n",
        "plt.ylabel('loss')\n",
        "plt.xlabel('epoch')\n",
        "plt.legend(['train','test'], loc='upper left')\n",
        "plt.show()"
      ],
      "metadata": {
        "colab": {
          "base_uri": "https://localhost:8080/",
          "height": 472
        },
        "id": "QfsH8RZIBelr",
        "outputId": "f86c6aed-f57c-4d35-90f6-6c6d29f8317b"
      },
      "execution_count": null,
      "outputs": [
        {
          "output_type": "display_data",
          "data": {
            "text/plain": [
              "<Figure size 640x480 with 1 Axes>"
            ],
            "image/png": "[encoded data removed]"
          },
          "metadata": {}
        }
      ]
    },
    {
      "cell_type": "code",
      "source": [
        "# Predict with test data\n",
        "y_pred = classifier.predict(X_test)\n",
        "# Check the values of y-pred (Remember, these will just be a value between 0 and 1 as we used sigmoid function)\n",
        "y_pred\n"
      ],
      "metadata": {
        "colab": {
          "base_uri": "https://localhost:8080/"
        },
        "id": "kh9hSkpJCFR2",
        "outputId": "88d23092-771a-49b4-fc9d-98abbbfa219e"
      },
      "execution_count": null,
      "outputs": [
        {
          "output_type": "stream",
          "name": "stdout",
          "text": [
            "63/63 [==============================] - 0s 2ms/step\n"
          ]
        },
        {
          "output_type": "execute_result",
          "data": {
            "text/plain": [
              "array([[0.32810432],\n",
              "       [0.25194114],\n",
              "       [0.12486096],\n",
              "       ...,\n",
              "       [0.19063613],\n",
              "       [0.14521985],\n",
              "       [0.24885395]], dtype=float32)"
            ]
          },
          "metadata": {},
          "execution_count": 29
        }
      ]
    },
    {
      "cell_type": "code",
      "source": [
        "y_pred = (y_pred >= 0.5)"
      ],
      "metadata": {
        "id": "Figu5YKECZYz"
      },
      "execution_count": null,
      "outputs": []
    },
    {
      "cell_type": "code",
      "source": [
        "# Confusion Matrix\n",
        "from sklearn.metrics import confusion_matrix\n",
        "cm = confusion_matrix(y_test,y_pred)\n",
        "cm"
      ],
      "metadata": {
        "colab": {
          "base_uri": "https://localhost:8080/"
        },
        "id": "4Y4WWGhmCbLx",
        "outputId": "b4fff254-d375-4729-b0e7-2bb3913e569f"
      },
      "execution_count": null,
      "outputs": [
        {
          "output_type": "execute_result",
          "data": {
            "text/plain": [
              "array([[1485,  110],\n",
              "       [ 185,  220]])"
            ]
          },
          "metadata": {},
          "execution_count": 32
        }
      ]
    },
    {
      "cell_type": "code",
      "source": [
        "from sklearn.metrics import accuracy_score\n",
        "score = accuracy_score(y_test,y_pred)\n",
        "score\n"
      ],
      "metadata": {
        "colab": {
          "base_uri": "https://localhost:8080/"
        },
        "id": "N4OTsOIODI7u",
        "outputId": "278f6de5-dc3d-45d4-8190-eb85cdfb0f2f"
      },
      "execution_count": null,
      "outputs": [
        {
          "output_type": "execute_result",
          "data": {
            "text/plain": [
              "0.8525"
            ]
          },
          "metadata": {},
          "execution_count": 33
        }
      ]
    },
    {
      "cell_type": "code",
      "source": [
        "from sklearn.metrics import classification_report\n",
        "print(classification_report(y_test, y_pred))"
      ],
      "metadata": {
        "colab": {
          "base_uri": "https://localhost:8080/"
        },
        "id": "-bng0aloLNhX",
        "outputId": "e3b04cfa-147d-41dc-ed7f-948da86f8785"
      },
      "execution_count": null,
      "outputs": [
        {
          "output_type": "stream",
          "name": "stdout",
          "text": [
            "              precision    recall  f1-score   support\n",
            "\n",
            "           0       0.89      0.93      0.91      1595\n",
            "           1       0.67      0.54      0.60       405\n",
            "\n",
            "    accuracy                           0.85      2000\n",
            "   macro avg       0.78      0.74      0.75      2000\n",
            "weighted avg       0.84      0.85      0.85      2000\n",
            "\n"
          ]
        }
      ]
    },
    {
      "cell_type": "markdown",
      "source": [
        "**--------------------Extras---------------------------**"
      ],
      "metadata": {
        "id": "3Be-fm2-IgAR"
      }
    },
    {
      "cell_type": "code",
      "source": [
        "# To get the weights\n",
        "classifier.get_weights()"
      ],
      "metadata": {
        "colab": {
          "base_uri": "https://localhost:8080/"
        },
        "id": "KFQU8YRnDhcM",
        "outputId": "9311c624-aa75-4935-ca08-8803da7b3aa5"
      },
      "execution_count": null,
      "outputs": [
        {
          "output_type": "execute_result",
          "data": {
            "text/plain": [
              "[array([[-0.02463369,  0.00515651,  0.01629229,  0.24572687, -0.12922135,\n",
              "         -0.3315648 , -0.01911113,  0.35968626, -0.19448902,  0.5238516 ,\n",
              "         -0.40626526],\n",
              "        [-0.19804014, -0.56659275,  0.06971914, -0.16780956,  0.6747123 ,\n",
              "         -0.62114847,  0.7640677 ,  0.16586992, -0.9762876 , -0.7436811 ,\n",
              "          0.12579983],\n",
              "        [-0.05105504, -0.13070567,  0.13498826,  0.01012698, -0.02089897,\n",
              "         -0.1325357 ,  0.1856092 , -0.06671444,  0.11210586,  0.1653581 ,\n",
              "          0.01664273],\n",
              "        [-0.5376708 ,  0.30288655,  0.07534674,  0.39372733,  0.3542265 ,\n",
              "         -0.4548355 , -0.16344015,  0.4857763 ,  0.5223272 , -0.24459146,\n",
              "          0.22953512],\n",
              "        [ 0.65425825, -0.46483   ,  0.49941182, -0.3850084 ,  0.6503516 ,\n",
              "         -0.42719558, -0.539929  ,  0.8466421 , -0.09771102, -0.34639117,\n",
              "          1.0361197 ],\n",
              "        [-0.279558  ,  0.10854461,  0.29554984,  0.14040531, -0.00851024,\n",
              "          0.4092422 , -0.02936999,  0.1834163 , -0.28741944,  0.20371054,\n",
              "         -0.2293451 ],\n",
              "        [ 0.0023126 , -0.139738  ,  0.6281437 , -0.24428861,  0.7769967 ,\n",
              "          0.3292792 ,  0.06114948, -0.3955587 ,  0.33897552, -0.12175074,\n",
              "         -0.11090396],\n",
              "        [-0.05838117,  0.41676295, -0.03462531, -0.06468318, -0.23159073,\n",
              "          0.03052307,  0.03369547,  0.06258007, -0.48668092,  0.12009365,\n",
              "          0.03859638],\n",
              "        [ 0.2492501 ,  0.11005847, -0.08744453,  0.7212035 , -0.02907214,\n",
              "         -0.3333907 ,  0.356131  ,  0.00793265, -0.5399581 ,  0.12427897,\n",
              "          0.05005732],\n",
              "        [-0.13974765,  0.10320704,  0.3422622 ,  0.01154989, -0.06390009,\n",
              "         -0.19850813,  0.19886115,  0.23497504, -0.04322936, -0.35078356,\n",
              "          0.05612497],\n",
              "        [ 0.31126007,  0.49951127, -0.07939029, -0.79135734, -0.08132812,\n",
              "         -0.5551394 , -0.03363946, -0.11571285,  0.00680628, -0.00337634,\n",
              "         -0.11741114]], dtype=float32),\n",
              " array([ 0.08283328,  0.14797212,  0.56291765,  0.29749045, -0.34257004,\n",
              "        -0.3075634 ,  0.42773083, -0.28084117,  0.5210514 ,  0.36425716,\n",
              "        -0.31759417], dtype=float32),\n",
              " array([[ 0.477467  ,  0.43056035,  0.11511356,  0.2470739 ,  0.28980726,\n",
              "          0.42403805,  0.03644984],\n",
              "        [ 0.06061614, -0.16660424, -0.60714346,  0.05526859,  0.04333792,\n",
              "          0.4701547 ,  0.12196684],\n",
              "        [ 0.60468715,  0.13714932,  0.14686556,  0.16879816, -0.9962398 ,\n",
              "          0.40732297,  0.6705441 ],\n",
              "        [-0.25621197,  0.15882003, -0.729053  , -0.35199228, -0.06571838,\n",
              "         -0.5661289 ,  0.28772333],\n",
              "        [-0.35174626, -0.5139093 ,  0.28876176,  0.943489  , -0.45569393,\n",
              "          0.17941271, -0.45130455],\n",
              "        [ 0.06208986,  0.26935598, -0.15471797, -0.69095236, -0.02760206,\n",
              "         -0.50031483, -0.42775998],\n",
              "        [-0.32071283, -0.60091054, -0.46489993, -0.05931067,  0.32201213,\n",
              "         -0.01846285, -0.55730563],\n",
              "        [-0.49817666,  0.11235892,  0.7143232 , -0.23042585,  0.08148484,\n",
              "         -0.12913728, -0.2812463 ],\n",
              "        [ 0.6993049 , -0.48976883, -0.29870364, -0.21974231, -1.1803612 ,\n",
              "         -0.32713696,  0.5634794 ],\n",
              "        [-0.10490581, -0.12678698, -0.17126977,  0.5087336 ,  0.00672818,\n",
              "          0.32635054,  0.41178954],\n",
              "        [ 0.27595174,  0.01841377,  0.58156735, -0.3264681 ,  0.21674287,\n",
              "         -0.1682512 ,  0.70005006]], dtype=float32),\n",
              " array([ 0.62133366,  0.64843595, -0.4245177 ,  0.27958256,  0.18702003,\n",
              "         0.12614879,  0.57759655], dtype=float32),\n",
              " array([[-0.5672529 , -0.066168  , -1.3654038 ,  0.06913354,  0.53891766,\n",
              "          0.14620703],\n",
              "        [-1.3162454 , -0.173103  ,  0.28167722, -0.00915865,  0.7930583 ,\n",
              "          0.8071635 ],\n",
              "        [-0.13510074,  0.8518495 ,  0.5577708 ,  0.8519491 , -0.32884538,\n",
              "         -0.71755224],\n",
              "        [ 0.6418368 , -0.7775582 , -0.5773688 ,  0.35894588, -0.36322883,\n",
              "          0.726726  ],\n",
              "        [-0.04816094, -0.7514283 , -0.32628217, -0.559622  , -0.4220752 ,\n",
              "         -0.91885   ],\n",
              "        [ 0.6002495 ,  0.362036  , -0.5614042 , -0.2071018 , -0.34830844,\n",
              "          0.8282771 ],\n",
              "        [-0.54606855,  0.45049244,  0.323676  ,  0.3118435 ,  0.53372115,\n",
              "          0.39456323]], dtype=float32),\n",
              " array([-0.4024316 , -0.6910473 , -0.0021512 , -0.6845533 ,  0.2170139 ,\n",
              "         0.39617103], dtype=float32),\n",
              " array([[-0.77335733],\n",
              "        [ 1.5356263 ],\n",
              "        [ 0.5155953 ],\n",
              "        [ 1.2969164 ],\n",
              "        [-0.8857421 ],\n",
              "        [-1.1758884 ]], dtype=float32),\n",
              " array([1.4206836], dtype=float32)]"
            ]
          },
          "metadata": {},
          "execution_count": 34
        }
      ]
    },
    {
      "cell_type": "code",
      "source": [
        "classifier.summary()"
      ],
      "metadata": {
        "colab": {
          "base_uri": "https://localhost:8080/"
        },
        "id": "UlrrZVtlDwWI",
        "outputId": "060b0478-929d-4830-f054-f10eea2e295b"
      },
      "execution_count": null,
      "outputs": [
        {
          "output_type": "stream",
          "name": "stdout",
          "text": [
            "Model: \"sequential\"\n",
            "_________________________________________________________________\n",
            " Layer (type)                Output Shape              Param #   \n",
            "=================================================================\n",
            " dense (Dense)               (None, 11)                132       \n",
            "                                                                 \n",
            " dense_1 (Dense)             (None, 7)                 84        \n",
            "                                                                 \n",
            " dense_2 (Dense)             (None, 6)                 48        \n",
            "                                                                 \n",
            " dense_3 (Dense)             (None, 1)                 7         \n",
            "                                                                 \n",
            "=================================================================\n",
            "Total params: 271\n",
            "Trainable params: 271\n",
            "Non-trainable params: 0\n",
            "_________________________________________________________________\n"
          ]
        }
      ]
    },
    {
      "cell_type": "code",
      "source": [],
      "metadata": {
        "id": "GjTofszdGVH9"
      },
      "execution_count": null,
      "outputs": []
    }
  ]
}